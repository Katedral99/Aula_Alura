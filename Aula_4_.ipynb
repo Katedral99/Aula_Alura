{
  "nbformat": 4,
  "nbformat_minor": 0,
  "metadata": {
    "colab": {
      "provenance": [],
      "authorship_tag": "ABX9TyPzPyT/IWVxcU+UWBT5CjiU",
      "include_colab_link": true
    },
    "kernelspec": {
      "name": "python3",
      "display_name": "Python 3"
    },
    "language_info": {
      "name": "python"
    }
  },
  "cells": [
    {
      "cell_type": "markdown",
      "metadata": {
        "id": "view-in-github",
        "colab_type": "text"
      },
      "source": [
        "<a href=\"https://colab.research.google.com/github/Katedral99/Aula_Alura/blob/main/Aula_4_.ipynb\" target=\"_parent\"><img src=\"https://colab.research.google.com/assets/colab-badge.svg\" alt=\"Open In Colab\"/></a>"
      ]
    },
    {
      "cell_type": "markdown",
      "source": [
        "<font size=\"+3\" color=\"green\">\n",
        "`CRIANDO UM CHATBOT`\n",
        "</font>"
      ],
      "metadata": {
        "id": "M-trcAz-3IDe"
      }
    },
    {
      "cell_type": "code",
      "execution_count": 1,
      "metadata": {
        "colab": {
          "base_uri": "https://localhost:8080/"
        },
        "id": "7W0G5KLDSX9l",
        "outputId": "936bd20a-094d-4446-fa9b-2c562a394433"
      },
      "outputs": [
        {
          "output_type": "stream",
          "name": "stdout",
          "text": [
            "\n",
            "Usage:   \n",
            "  pip3 install [options] <requirement specifier> [package-index-options] ...\n",
            "  pip3 install [options] -r <requirements file> [package-index-options] ...\n",
            "  pip3 install [options] [-e] <vcs project url> ...\n",
            "  pip3 install [options] [-e] <local project path> ...\n",
            "  pip3 install [options] <archive url/path> ...\n",
            "\n",
            "no such option: -u\n"
          ]
        }
      ],
      "source": [
        "#O comando serve para instalar ou atualizar a biblioteca Google Generative AI no seu ambiente Python.\n",
        "\n",
        "!pip install -q -u google-generativeai:\n"
      ]
    },
    {
      "cell_type": "code",
      "source": [
        "#Esse código configura a biblioteca genai para usar a sua chave de API, armazenada de forma segura no Google Colab.\n",
        "import google.generativeai as genai\n",
        "from google.colab import userdata\n",
        "api_key = userdata.get('CHAVE_SECRETA')\n",
        "genai.configure(api_key=api_key)"
      ],
      "metadata": {
        "id": "gR_iY4fnSxIc"
      },
      "execution_count": 2,
      "outputs": []
    },
    {
      "cell_type": "code",
      "source": [
        "#Esse código percorre a lista de modelos disponíveis na biblioteca genai e imprime o nome dos modelos que suportam o método generateContent.\n",
        "for m in genai.list_models():\n",
        "  if 'generateContent' in m.supported_generation_methods:\n",
        "    print(m.name)"
      ],
      "metadata": {
        "colab": {
          "base_uri": "https://localhost:8080/",
          "height": 139
        },
        "id": "3Qqu9r2tS5mT",
        "outputId": "4cfaeeff-6e8d-4ed9-d65e-6c9aac8f951b"
      },
      "execution_count": 3,
      "outputs": [
        {
          "output_type": "stream",
          "name": "stdout",
          "text": [
            "models/gemini-1.0-pro\n",
            "models/gemini-1.0-pro-001\n",
            "models/gemini-1.0-pro-latest\n",
            "models/gemini-1.0-pro-vision-latest\n",
            "models/gemini-1.5-pro-latest\n",
            "models/gemini-pro\n",
            "models/gemini-pro-vision\n"
          ]
        }
      ]
    },
    {
      "cell_type": "code",
      "source": [
        "#Explicação dos parâmetros: temperature: Controla a criatividade do texto gerado. Valores mais altos resultam em textos mais criativos e inesperados. top_p: Um método de amostragem chamado \"amostragem de núcleo\" (nucleus sampling). O modelo considera apenas os tokens cuja probabilidade cumulativa excede top_p. top_k: Outro método de amostragem. O modelo considera apenas os top_k tokens mais prováveis em cada etapa.\n",
        "generation_config = {\n",
        "    'temperature': 0.5,\n",
        "    'top_p': 0.9,\n",
        "    'top_k': 50,\n",
        "}"
      ],
      "metadata": {
        "id": "DVYdwviVTCpU"
      },
      "execution_count": 4,
      "outputs": []
    },
    {
      "cell_type": "code",
      "source": [
        "#Esse código define um dicionário chamado 'safety_settings' que configura as preferências de segurança para o uso de um modelo de linguagem.\n",
        "safety_settings = {\n",
        "    'HARASSMENT': 'BLOCK_NONE',\n",
        "    'HATE': 'BLOCK_NONE',\n",
        "    'SEXUAL': 'BLOCK_NONE',\n",
        "    'DANGEROUS': 'BLOCK_NONE',}"
      ],
      "metadata": {
        "id": "zmZj5cluTJ0y"
      },
      "execution_count": 5,
      "outputs": []
    },
    {
      "cell_type": "code",
      "source": [
        "#Este código cria uma instância de um modelo generativo do Google Generative AI chamado \"Gemini 1.0 Pro\" com configurações específicas de geração e segurança.\n",
        "model = genai.GenerativeModel(model_name = 'models/gemini-1.0-pro',\n",
        "                              generation_config = generation_config,\n",
        "                              safety_settings = safety_settings)"
      ],
      "metadata": {
        "id": "TlqWAGSiTSYz"
      },
      "execution_count": 6,
      "outputs": []
    },
    {
      "cell_type": "code",
      "source": [
        "#Este código utiliza o modelo de linguagem definido anteriormente (model) para gerar sugestões de conteúdo sobre Inteligência Artificial (IA), e depois imprime a resposta.\n",
        "response = model.generate_content(\"Vamos aprender conteúdo sobre IA. Me dê sugestões.\")\n",
        "print(response.text)"
      ],
      "metadata": {
        "colab": {
          "base_uri": "https://localhost:8080/",
          "height": 763
        },
        "id": "hPLF9jb4TZCC",
        "outputId": "4a18af3c-36d6-4b1d-851c-389fa17dc895"
      },
      "execution_count": 7,
      "outputs": [
        {
          "output_type": "stream",
          "name": "stdout",
          "text": [
            "**Conceitos Fundamentais:**\n",
            "\n",
            "* O que é Inteligência Artificial (IA)?\n",
            "* Tipos de IA: IA fraca, IA forte, IA geral\n",
            "* Aprendizado de máquina: supervisionado, não supervisionado, por reforço\n",
            "* Redes neurais: arquitetura, tipos e treinamento\n",
            "\n",
            "**Aplicações da IA:**\n",
            "\n",
            "* Reconhecimento de imagem e fala\n",
            "* Processamento de linguagem natural (PNL)\n",
            "* Veículos autônomos\n",
            "* Assistentes virtuais\n",
            "* Medicina e saúde\n",
            "* Finanças e negócios\n",
            "\n",
            "**Implementação da IA:**\n",
            "\n",
            "* Escolhendo o algoritmo certo\n",
            "* Preparação de dados\n",
            "* Treinamento e avaliação de modelos\n",
            "* Integração com sistemas existentes\n",
            "\n",
            "**Ética e Implicações Sociais da IA:**\n",
            "\n",
            "* Viés e discriminação na IA\n",
            "* Perda de empregos devido à automação\n",
            "* Responsabilidade e regulamentação da IA\n",
            "* Impacto na sociedade e no futuro do trabalho\n",
            "\n",
            "**Recursos de Aprendizagem:**\n",
            "\n",
            "* **Cursos online:** Coursera, edX, Udemy\n",
            "* **Livros:** \"Inteligência Artificial: Uma Abordagem Moderna\" (Stuart Russell e Peter Norvig), \"Aprendizado de Máquina\" (Tom Mitchell)\n",
            "* **Tutoriais e artigos:** Google AI Blog, MIT Technology Review, Towards Data Science\n",
            "* **Comunidades online:** Reddit (r/MachineLearning), Stack Overflow (tópico \"Inteligência Artificial\")\n",
            "\n",
            "**Exemplos Práticos:**\n",
            "\n",
            "* Construir um classificador de imagens usando TensorFlow\n",
            "* Criar um chatbot usando PNL\n",
            "* Analisar dados de saúde usando aprendizado de máquina\n",
            "* Automatizar tarefas usando IA\n"
          ]
        }
      ]
    },
    {
      "cell_type": "code",
      "source": [
        "#Este código inicia uma sessão de chat com o modelo de linguagem model utilizando a funcionalidade start_chat da biblioteca genai.\n",
        "chat = model.start_chat(history=[])"
      ],
      "metadata": {
        "id": "NGnAeGgKVWTG"
      },
      "execution_count": 8,
      "outputs": []
    },
    {
      "cell_type": "code",
      "source": [
        "#Este código implementa um loop interativo que permite que o usuário converse com o modelo de linguagem através da sessão de chat (chat) criada anteriormente.\n",
        "prompt = input('Esperando comando:')\n",
        "while prompt != 'fim':\n",
        "  response = chat.send_message(prompt)\n",
        "  print('Resposta:', response.text, '\\n')\n",
        "  prompt = input('Esperando comando:')"
      ],
      "metadata": {
        "colab": {
          "base_uri": "https://localhost:8080/",
          "height": 1000
        },
        "id": "vzLIdRsHVZn1",
        "outputId": "0d392127-07cb-4049-bba5-88a7a5af148e"
      },
      "execution_count": 9,
      "outputs": [
        {
          "name": "stdout",
          "output_type": "stream",
          "text": [
            "Esperando comando:me descreva quais os tipos de IA e suas funcionalidades\n",
            "Resposta: **Tipos de Inteligência Artificial (IA)**\n",
            "\n",
            "**IA Fraca (IA Estreita)**\n",
            "\n",
            "* Projetada para realizar tarefas específicas e limitadas.\n",
            "* Não possui consciência ou capacidade de raciocinar.\n",
            "* Exemplos:\n",
            "    * Assistentes virtuais (Siri, Alexa)\n",
            "    * Sistemas de recomendação (Netflix, Spotify)\n",
            "    * Reconhecimento de imagem\n",
            "\n",
            "**IA Geral (AGI)**\n",
            "\n",
            "* Teoricamente capaz de realizar qualquer tarefa intelectual que um ser humano possa realizar.\n",
            "* Ainda não foi alcançada.\n",
            "\n",
            "**IA Superinteligente (ASI)**\n",
            "\n",
            "* Excede as capacidades intelectuais humanas em todos os aspectos.\n",
            "* É um conceito hipotético e altamente especulativo.\n",
            "\n",
            "**Funcionalidades da IA**\n",
            "\n",
            "**Aprendizado de Máquina (ML)**\n",
            "\n",
            "* Permite que os computadores aprendam com dados sem programação explícita.\n",
            "* Tipos de ML:\n",
            "    * Aprendizado supervisionado (por exemplo, classificação de imagens)\n",
            "    * Aprendizado não supervisionado (por exemplo, agrupamento de dados)\n",
            "    * Aprendizado por reforço (por exemplo, jogar videogames)\n",
            "\n",
            "**Processamento de Linguagem Natural (PNL)**\n",
            "\n",
            "* Permite que os computadores entendam e gerem a linguagem humana.\n",
            "* Funcionalidades:\n",
            "    * Tradução de idiomas\n",
            "    * Resumo de texto\n",
            "    * Geração de linguagem\n",
            "\n",
            "**Visão Computacional**\n",
            "\n",
            "* Permite que os computadores \"vejam\" e interpretem imagens e vídeos.\n",
            "* Funcionalidades:\n",
            "    * Reconhecimento de objetos\n",
            "    * Detecção de rosto\n",
            "    * Análise de vídeo\n",
            "\n",
            "**Robótica**\n",
            "\n",
            "* Cria máquinas que podem se mover e interagir com o mundo físico.\n",
            "* Funcionalidades:\n",
            "    * Fabricação\n",
            "    * Exploração\n",
            "    * Cirurgia assistida por robô\n",
            "\n",
            "**Outras Funcionalidades**\n",
            "\n",
            "* **Planejamento e Agendamento:** Otimiza o uso de recursos e cria horários.\n",
            "* **Tomada de Decisão:** Fornece recomendações e ajuda na tomada de decisões.\n",
            "* **Previsão:** Prediz eventos futuros com base em dados históricos.\n",
            "* **Geração de Conteúdo:** Cria conteúdo criativo, como texto, música e imagens. \n",
            "\n",
            "Esperando comando:fim\n"
          ]
        }
      ]
    },
    {
      "cell_type": "code",
      "source": [
        "#Variável\n",
        "chat"
      ],
      "metadata": {
        "colab": {
          "base_uri": "https://localhost:8080/"
        },
        "id": "EKWYkVizWxL7",
        "outputId": "afcb8380-e05e-4868-ec18-a4131fe01ba9"
      },
      "execution_count": 11,
      "outputs": [
        {
          "output_type": "execute_result",
          "data": {
            "text/plain": [
              "ChatSession(\n",
              "    model=genai.GenerativeModel(\n",
              "        model_name='models/gemini-1.0-pro',\n",
              "        generation_config={'temperature': 0.5, 'top_p': 0.9, 'top_k': 50},\n",
              "        safety_settings={<HarmCategory.HARM_CATEGORY_HARASSMENT: 7>: <HarmBlockThreshold.BLOCK_NONE: 4>, <HarmCategory.HARM_CATEGORY_HATE_SPEECH: 8>: <HarmBlockThreshold.BLOCK_NONE: 4>, <HarmCategory.HARM_CATEGORY_SEXUALLY_EXPLICIT: 9>: <HarmBlockThreshold.BLOCK_NONE: 4>, <HarmCategory.HARM_CATEGORY_DANGEROUS_CONTENT: 10>: <HarmBlockThreshold.BLOCK_NONE: 4>},\n",
              "        tools=None,\n",
              "        system_instruction=None,\n",
              "    ),\n",
              "    history=[glm.Content({'parts': [{'text': 'me descreva ...ncionalidades'}], 'role': 'user'}), glm.Content({'parts': [{'text': '**Tipos de I...ca e imagens.'}], 'role': 'model'})]\n",
              ")"
            ]
          },
          "metadata": {},
          "execution_count": 11
        }
      ]
    },
    {
      "cell_type": "code",
      "source": [
        "#Histórico de mensagens\n",
        "chat.history"
      ],
      "metadata": {
        "colab": {
          "base_uri": "https://localhost:8080/"
        },
        "id": "iaGL_2sKZAcG",
        "outputId": "94346049-09e2-4821-fde4-d28d65cfd416"
      },
      "execution_count": 10,
      "outputs": [
        {
          "output_type": "execute_result",
          "data": {
            "text/plain": [
              "[parts {\n",
              "   text: \"me descreva quais os tipos de IA e suas funcionalidades\"\n",
              " }\n",
              " role: \"user\",\n",
              " parts {\n",
              "   text: \"**Tipos de Intelig\\303\\252ncia Artificial (IA)**\\n\\n**IA Fraca (IA Estreita)**\\n\\n* Projetada para realizar tarefas espec\\303\\255ficas e limitadas.\\n* N\\303\\243o possui consci\\303\\252ncia ou capacidade de raciocinar.\\n* Exemplos:\\n    * Assistentes virtuais (Siri, Alexa)\\n    * Sistemas de recomenda\\303\\247\\303\\243o (Netflix, Spotify)\\n    * Reconhecimento de imagem\\n\\n**IA Geral (AGI)**\\n\\n* Teoricamente capaz de realizar qualquer tarefa intelectual que um ser humano possa realizar.\\n* Ainda n\\303\\243o foi alcan\\303\\247ada.\\n\\n**IA Superinteligente (ASI)**\\n\\n* Excede as capacidades intelectuais humanas em todos os aspectos.\\n* \\303\\211 um conceito hipot\\303\\251tico e altamente especulativo.\\n\\n**Funcionalidades da IA**\\n\\n**Aprendizado de M\\303\\241quina (ML)**\\n\\n* Permite que os computadores aprendam com dados sem programa\\303\\247\\303\\243o expl\\303\\255cita.\\n* Tipos de ML:\\n    * Aprendizado supervisionado (por exemplo, classifica\\303\\247\\303\\243o de imagens)\\n    * Aprendizado n\\303\\243o supervisionado (por exemplo, agrupamento de dados)\\n    * Aprendizado por refor\\303\\247o (por exemplo, jogar videogames)\\n\\n**Processamento de Linguagem Natural (PNL)**\\n\\n* Permite que os computadores entendam e gerem a linguagem humana.\\n* Funcionalidades:\\n    * Tradu\\303\\247\\303\\243o de idiomas\\n    * Resumo de texto\\n    * Gera\\303\\247\\303\\243o de linguagem\\n\\n**Vis\\303\\243o Computacional**\\n\\n* Permite que os computadores \\\"vejam\\\" e interpretem imagens e v\\303\\255deos.\\n* Funcionalidades:\\n    * Reconhecimento de objetos\\n    * Detec\\303\\247\\303\\243o de rosto\\n    * An\\303\\241lise de v\\303\\255deo\\n\\n**Rob\\303\\263tica**\\n\\n* Cria m\\303\\241quinas que podem se mover e interagir com o mundo f\\303\\255sico.\\n* Funcionalidades:\\n    * Fabrica\\303\\247\\303\\243o\\n    * Explora\\303\\247\\303\\243o\\n    * Cirurgia assistida por rob\\303\\264\\n\\n**Outras Funcionalidades**\\n\\n* **Planejamento e Agendamento:** Otimiza o uso de recursos e cria hor\\303\\241rios.\\n* **Tomada de Decis\\303\\243o:** Fornece recomenda\\303\\247\\303\\265es e ajuda na tomada de decis\\303\\265es.\\n* **Previs\\303\\243o:** Prediz eventos futuros com base em dados hist\\303\\263ricos.\\n* **Gera\\303\\247\\303\\243o de Conte\\303\\272do:** Cria conte\\303\\272do criativo, como texto, m\\303\\272sica e imagens.\"\n",
              " }\n",
              " role: \"model\"]"
            ]
          },
          "metadata": {},
          "execution_count": 10
        }
      ]
    },
    {
      "cell_type": "code",
      "source": [
        "#Este código define uma função chamada to_markdown que formata um texto para exibição em Markdown dentro de um ambiente Jupyter Notebook ou similar.\n",
        "import textwrap\n",
        "from IPython.display import display\n",
        "from IPython.display import Markdown\n",
        "\n",
        "def to_markdown(text):\n",
        "  text = text.replace('*','')\n",
        "  return Markdown(textwrap.indent(text, '> ', predicate=lambda _: True))\n",
        "\n",
        "#Imprimindo o historico\n",
        "for message in chat.history:\n",
        "  display(to_markdown(f'**{message.role}**: {message.parts[0].text}'))\n",
        "  print(\"----------------------------------------------------------\")"
      ],
      "metadata": {
        "colab": {
          "base_uri": "https://localhost:8080/",
          "height": 661
        },
        "id": "XUESJn-oZNRO",
        "outputId": "2e955fda-5975-4148-f721-94d4f08f6a76"
      },
      "execution_count": 12,
      "outputs": [
        {
          "output_type": "display_data",
          "data": {
            "text/plain": [
              "<IPython.core.display.Markdown object>"
            ],
            "text/markdown": "> user: me descreva quais os tipos de IA e suas funcionalidades"
          },
          "metadata": {}
        },
        {
          "output_type": "stream",
          "name": "stdout",
          "text": [
            "----------------------------------------------------------\n"
          ]
        },
        {
          "output_type": "display_data",
          "data": {
            "text/plain": [
              "<IPython.core.display.Markdown object>"
            ],
            "text/markdown": "> model: Tipos de Inteligência Artificial (IA)\n> \n> IA Fraca (IA Estreita)\n> \n>  Projetada para realizar tarefas específicas e limitadas.\n>  Não possui consciência ou capacidade de raciocinar.\n>  Exemplos:\n>      Assistentes virtuais (Siri, Alexa)\n>      Sistemas de recomendação (Netflix, Spotify)\n>      Reconhecimento de imagem\n> \n> IA Geral (AGI)\n> \n>  Teoricamente capaz de realizar qualquer tarefa intelectual que um ser humano possa realizar.\n>  Ainda não foi alcançada.\n> \n> IA Superinteligente (ASI)\n> \n>  Excede as capacidades intelectuais humanas em todos os aspectos.\n>  É um conceito hipotético e altamente especulativo.\n> \n> Funcionalidades da IA\n> \n> Aprendizado de Máquina (ML)\n> \n>  Permite que os computadores aprendam com dados sem programação explícita.\n>  Tipos de ML:\n>      Aprendizado supervisionado (por exemplo, classificação de imagens)\n>      Aprendizado não supervisionado (por exemplo, agrupamento de dados)\n>      Aprendizado por reforço (por exemplo, jogar videogames)\n> \n> Processamento de Linguagem Natural (PNL)\n> \n>  Permite que os computadores entendam e gerem a linguagem humana.\n>  Funcionalidades:\n>      Tradução de idiomas\n>      Resumo de texto\n>      Geração de linguagem\n> \n> Visão Computacional\n> \n>  Permite que os computadores \"vejam\" e interpretem imagens e vídeos.\n>  Funcionalidades:\n>      Reconhecimento de objetos\n>      Detecção de rosto\n>      Análise de vídeo\n> \n> Robótica\n> \n>  Cria máquinas que podem se mover e interagir com o mundo físico.\n>  Funcionalidades:\n>      Fabricação\n>      Exploração\n>      Cirurgia assistida por robô\n> \n> Outras Funcionalidades\n> \n>  Planejamento e Agendamento: Otimiza o uso de recursos e cria horários.\n>  Tomada de Decisão: Fornece recomendações e ajuda na tomada de decisões.\n>  Previsão: Prediz eventos futuros com base em dados históricos.\n>  Geração de Conteúdo: Cria conteúdo criativo, como texto, música e imagens."
          },
          "metadata": {}
        },
        {
          "output_type": "stream",
          "name": "stdout",
          "text": [
            "----------------------------------------------------------\n"
          ]
        }
      ]
    },
    {
      "cell_type": "markdown",
      "source": [
        "<font size=\"+1\" color=\"BLUE\">***#DemaisAluraeGoogle***</font>\n",
        "https://www.canva.com/design/DAF95gp7evk/0HEwzgdnqhOh1qr1Yh1tRw/view?utm_content=DAF95gp7evk&utm_campaign=designshare&utm_medium=link&utm_source=editor"
      ],
      "metadata": {
        "id": "q_yTXGAF3i3o"
      }
    }
  ]
}